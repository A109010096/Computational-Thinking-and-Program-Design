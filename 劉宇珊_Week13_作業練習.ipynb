{
  "nbformat": 4,
  "nbformat_minor": 0,
  "metadata": {
    "kernelspec": {
      "display_name": "Python 3",
      "language": "python",
      "name": "python3"
    },
    "language_info": {
      "codemirror_mode": {
        "name": "ipython",
        "version": 3
      },
      "file_extension": ".py",
      "mimetype": "text/x-python",
      "name": "python",
      "nbconvert_exporter": "python",
      "pygments_lexer": "ipython3",
      "version": "3.8.5"
    },
    "colab": {
      "name": "劉宇珊-Week13-作業練習.ipynb",
      "provenance": [],
      "include_colab_link": true
    }
  },
  "cells": [
    {
      "cell_type": "markdown",
      "metadata": {
        "id": "view-in-github",
        "colab_type": "text"
      },
      "source": [
        "<a href=\"https://colab.research.google.com/github/A109010096/Computational-Thinking-and-Program-Design/blob/main/%E5%8A%89%E5%AE%87%E7%8F%8A_Week13_%E4%BD%9C%E6%A5%AD%E7%B7%B4%E7%BF%92.ipynb\" target=\"_parent\"><img src=\"https://colab.research.google.com/assets/colab-badge.svg\" alt=\"Open In Colab\"/></a>"
      ]
    },
    {
      "cell_type": "markdown",
      "metadata": {
        "id": "VjcxxqG1tWKa"
      },
      "source": [
        "**隨堂練習1： BMI 計算**\n",
        "\n",
        "請寫一個程式讓使用者輸入身高與體重，顯示BMI 值與肥胖程度。 BMI 等於體重（KG）除以身高（M）的平方，而BMI 與肥胖分類標準如下：\n",
        "\n",
        "若BMI 值小於18，則顯示「體重過輕」，否則若BMI 值小於24，則顯示「體重正常」，若BMI 值小於27，則顯示「體重過重」，否則顯示「體重肥胖」。"
      ]
    },
    {
      "cell_type": "code",
      "metadata": {
        "colab": {
          "base_uri": "https://localhost:8080/"
        },
        "id": "yYj6upMStWKb",
        "outputId": "417f2769-17fb-4b34-d19e-2637886510d5"
      },
      "source": [
        "weight =  int(input(\"請輸入你的體重(公斤):\"))\n",
        "height = float(input(\"請輸入你的身高(公尺):\"))\n",
        "BMI = weight /( height * height)\n",
        "if BMI < 18:\n",
        "    print(\"體重過輕\")\n",
        "elif BMI < 24:\n",
        "    print(\"體重正常\")\n",
        "elif BMI < 27:\n",
        "    print(\"體重過重\")\n",
        "else:\n",
        "    print(\"體重肥胖\")"
      ],
      "execution_count": 1,
      "outputs": [
        {
          "output_type": "stream",
          "text": [
            "請輸入你的體重(公斤):45\n",
            "請輸入你的身高(公尺):1.52\n",
            "體重正常\n"
          ],
          "name": "stdout"
        }
      ]
    },
    {
      "cell_type": "markdown",
      "metadata": {
        "id": "nBbHvE_WtWKb"
      },
      "source": [
        "**隨堂練習2： 三一律(單向選擇、雙向與巢狀選擇、多向選擇)**\n",
        "\n",
        "請輸入一個數，然後判斷這個數是正數、是負數或者是零。"
      ]
    },
    {
      "cell_type": "code",
      "metadata": {
        "colab": {
          "base_uri": "https://localhost:8080/"
        },
        "id": "xeKTCmNetWKc",
        "outputId": "66cd1865-3c32-47fb-c1d4-1adb48e4bf1d"
      },
      "source": [
        "num_a = int(input(\"輸入第一個數字？ \"))\n",
        "num_b = int(input(\"輸入第二個數字？ \"))\n",
        "if num_a < 0:\n",
        " \tprint(\"第一個是負數\")\n",
        "if num_b < 0:\n",
        " \tprint(\"第二個是負數\")\n",
        "print(\"比較完成\")"
      ],
      "execution_count": 2,
      "outputs": [
        {
          "output_type": "stream",
          "text": [
            "輸入第一個數字？ -7\n",
            "輸入第二個數字？ -4\n",
            "第一個是負數\n",
            "第二個是負數\n",
            "比較完成\n"
          ],
          "name": "stdout"
        }
      ]
    },
    {
      "cell_type": "code",
      "metadata": {
        "colab": {
          "base_uri": "https://localhost:8080/"
        },
        "id": "uVuGWUspv35K",
        "outputId": "54a9b109-14b7-4ee7-a2d2-74529c7bb874"
      },
      "source": [
        "In [1]: ## Input\n",
        "num1 = int(input(\"Please input a number: \"))\n",
        "num2 = int(input(\"Please input another number: \"))\n",
        "if num1 == num2:\n",
        "     print(num1, \"等於\", num2)\n",
        "elif num1 < num2:\n",
        "     print(num1, \"小於\", num2)\n",
        "else:\n",
        "     print(num1, \"大於\", num2)"
      ],
      "execution_count": 3,
      "outputs": [
        {
          "output_type": "stream",
          "text": [
            "Please input a number: 0\n",
            "Please input another number: 88\n",
            "0 小於 88\n"
          ],
          "name": "stdout"
        }
      ]
    },
    {
      "cell_type": "markdown",
      "metadata": {
        "id": "grGgMBsNtWKc"
      },
      "source": [
        "**練習5   體溫與發燒**\n",
        "\n",
        "設計程式根據體溫判斷是否發燒，由使用者輸入體溫，程式判斷是否發燒，假設體溫小於36度，顯示「體溫過低」，體溫大於等於36度小於38度，顯示「體溫正常」，否則若體溫大於等於38度小於39度，顯示「體溫有點燒」，否則體溫大於等於39度，顯示「體溫很燒」。\n",
        "\n",
        "輸入體溫「36.5」，輸出為「體溫正常」。\n",
        "\n",
        "～程式執行結果如下。\n",
        "\n",
        "請輸入體溫？36.5\n",
        "\n",
        "體溫正常"
      ]
    },
    {
      "cell_type": "code",
      "metadata": {
        "colab": {
          "base_uri": "https://localhost:8080/"
        },
        "id": "08NuI6z_tWKd",
        "outputId": "e00a7559-31e5-4f0b-b4e7-7c93baa47db0"
      },
      "source": [
        "number = float(input(\"請輸入體溫\"))\n",
        "\n",
        "if number < 36:\n",
        "    print(\"體溫過低\")\n",
        "elif  36<number<38 :\n",
        "    print(\"體溫正常\")\n",
        "elif  38<=number<39 :\n",
        "    print(\"體溫有點燒\")\n",
        "else:\n",
        "    print(\"體溫很燒\")"
      ],
      "execution_count": 4,
      "outputs": [
        {
          "output_type": "stream",
          "text": [
            "請輸入體溫78\n",
            "體溫很燒\n"
          ],
          "name": "stdout"
        }
      ]
    },
    {
      "cell_type": "markdown",
      "metadata": {
        "id": "K98IQ4NLtWKd"
      },
      "source": [
        "**練習6  閏年判斷**\n",
        "\n",
        "設計程式允許輸入西元幾年，請求出該年是否是閏年，閏年表示該年多一天，若為4的倍數稱做閏年，但若為100的倍數就不為閏年，且若為400倍數又是閏年。(四年一潤、百年不潤、四百年再潤)\n",
        "\n",
        "輸入年份「2012」，輸出為「2012是閏年」。\n",
        "\n",
        "～程式執行結果如下。\n",
        "\n",
        "請輸入年份？2012\n",
        "\n",
        "2012 是閏年"
      ]
    },
    {
      "cell_type": "code",
      "metadata": {
        "colab": {
          "base_uri": "https://localhost:8080/"
        },
        "id": "6Dg-71petWKe",
        "outputId": "ec065f90-d202-46ba-eac7-3c455ce75c21"
      },
      "source": [
        "year = int(input('請輸入年份')) \n",
        "if ((year % 400) == 0):\n",
        " print(year,\"是閨年\")\n",
        "elif ((year % 100) == 0):\n",
        " print(year,\"不是閨年\")\n",
        "elif ((year % 4) == 0):\n",
        " print(year,\"是閨年\")\n",
        "else:\n",
        "   print(year,\"不是閨年\")  "
      ],
      "execution_count": 7,
      "outputs": [
        {
          "output_type": "stream",
          "text": [
            "請輸入年份2100\n",
            "2100 不是閨年\n"
          ],
          "name": "stdout"
        }
      ]
    },
    {
      "cell_type": "markdown",
      "metadata": {
        "id": "S8hYWF1BtWKe"
      },
      "source": [
        "**練習12：計程車計費**\n",
        "\n",
        "某城市計程車計費3公里以內6元，超過3公里不足10公里、每公里1.8元，超過10公里則超過部分加收50%。此外停車等候每3分鐘收1元，請用Python寫出車費是多少。"
      ]
    },
    {
      "cell_type": "code",
      "metadata": {
        "colab": {
          "base_uri": "https://localhost:8080/"
        },
        "id": "yyfilFoxtWKe",
        "outputId": "f72dafd1-0777-429b-84a6-263a64bac76b"
      },
      "source": [
        "number = float(input('請輸入搭乘的公里數？')) \n",
        "wait =float(input('請輸入此次停車等候的分鐘數？')) \n",
        "wait1 = wait//3\n",
        "if number <= 3:\n",
        "    print(f\"此次車費為{6+wait1}元\")\n",
        "elif 3<number<10 :\n",
        "    number1=(number-3)*1.8+3+wait1\n",
        "    print(f\"此次車費為{number1}元\")\n",
        "elif number>10 :    \n",
        "    number1=7*1.8+3+(number-10)*1.8*1.5+wait1\n",
        "    print(f\"此次車費為{number1}元\")"
      ],
      "execution_count": 5,
      "outputs": [
        {
          "output_type": "stream",
          "text": [
            "請輸入搭乘的公里數？67\n",
            "請輸入此次停車等候的分鐘數？55\n",
            "此次車費為187.5元\n"
          ],
          "name": "stdout"
        }
      ]
    },
    {
      "cell_type": "code",
      "metadata": {
        "id": "roPTR59HtWKe"
      },
      "source": [
        ""
      ],
      "execution_count": null,
      "outputs": []
    }
  ]
}