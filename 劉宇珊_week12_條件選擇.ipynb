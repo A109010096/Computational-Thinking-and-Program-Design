{
  "nbformat": 4,
  "nbformat_minor": 0,
  "metadata": {
    "kernelspec": {
      "display_name": "Python 3",
      "language": "python",
      "name": "python3"
    },
    "language_info": {
      "codemirror_mode": {
        "name": "ipython",
        "version": 3
      },
      "file_extension": ".py",
      "mimetype": "text/x-python",
      "name": "python",
      "nbconvert_exporter": "python",
      "pygments_lexer": "ipython3",
      "version": "3.8.5"
    },
    "colab": {
      "name": "劉宇珊-week12-條件選擇.ipynb",
      "provenance": [],
      "include_colab_link": true
    }
  },
  "cells": [
    {
      "cell_type": "markdown",
      "metadata": {
        "id": "view-in-github",
        "colab_type": "text"
      },
      "source": [
        "<a href=\"https://colab.research.google.com/github/A109010096/Computational-Thinking-and-Program-Design/blob/main/%E5%8A%89%E5%AE%87%E7%8F%8A_week12_%E6%A2%9D%E4%BB%B6%E9%81%B8%E6%93%87.ipynb\" target=\"_parent\"><img src=\"https://colab.research.google.com/assets/colab-badge.svg\" alt=\"Open In Colab\"/></a>"
      ]
    },
    {
      "cell_type": "markdown",
      "metadata": {
        "id": "s52Mv9QmpOzO"
      },
      "source": [
        "### 1. 單向選擇\n"
      ]
    },
    {
      "cell_type": "code",
      "metadata": {
        "id": "54-02o34pOzU"
      },
      "source": [
        "## 範例：比較數字（一）: if\n",
        "\n",
        "In [3]: ## 數字資料 （一）\n",
        "   ...: num = int(input(\"請輸入一個數字: \"))\n",
        "   ...: if num > 0:\n",
        "   ...: \tprint(\"數字為正數\")\n",
        "   ...: print(\"比較完畢\")\n",
        "   ...: # 輸入5, 10, -3看結果\n",
        "\n",
        "請輸入一個數字: 5\n",
        "數字為正數\n",
        "比較完畢"
      ],
      "execution_count": null,
      "outputs": []
    },
    {
      "cell_type": "code",
      "metadata": {
        "id": "BtjbFFu8pOzV",
        "colab": {
          "base_uri": "https://localhost:8080/"
        },
        "outputId": "573c6962-75e2-49fc-f69b-284c5dee358d"
      },
      "source": [
        "num = int(input(\"請輸入一個數字: \"))\n",
        "if num > 0:\n",
        "    print(\"數字為正數\")\n",
        "    print(\"比較完畢\")"
      ],
      "execution_count": 2,
      "outputs": [
        {
          "output_type": "stream",
          "text": [
            "請輸入一個數字: 8\n",
            "數字為正數\n",
            "比較完畢\n"
          ],
          "name": "stdout"
        }
      ]
    },
    {
      "cell_type": "code",
      "metadata": {
        "id": "hGzC4p4_pOzW"
      },
      "source": [
        "## 範例：比較數字（二）:串接if\n",
        "\n",
        "In [5]: num = int(input(\"輸入一個數字： \"))\n",
        "   ...: \n",
        "   ...: if num > 0:\n",
        "   ...: \tprint(\"是正數\")\n",
        "   ...: if num < 0:\n",
        "   ...: \tprint(\"是負數\")\n",
        "   ...: if num == 0:\n",
        "   ...: \tprint(\"數字是0\")\n",
        "   ...: print(\"比較完畢！\")\n",
        "\n",
        "輸入一個數字： 5\n",
        "是正數\n",
        "比較完畢！"
      ],
      "execution_count": null,
      "outputs": []
    },
    {
      "cell_type": "code",
      "metadata": {
        "id": "QTrSIkqspOzW",
        "colab": {
          "base_uri": "https://localhost:8080/"
        },
        "outputId": "3127d450-9f5c-498b-ca09-916b9dfca052"
      },
      "source": [
        "In [5]: num = int(input(\"輸入一個數字： \"))\n",
        "if num > 0:\n",
        " print(\"是正數\")\n",
        "if num < 0:\n",
        " print(\"是負數\")\n",
        "if num == 0:\n",
        " print(\"數字是0\")\n",
        " print(\"比較完畢！\")"
      ],
      "execution_count": 4,
      "outputs": [
        {
          "output_type": "stream",
          "text": [
            "輸入一個數字： 99\n",
            "是正數\n"
          ],
          "name": "stdout"
        }
      ]
    },
    {
      "cell_type": "code",
      "metadata": {
        "id": "1xTM33CqpOzW"
      },
      "source": [
        "## 範例：比較數字（三）:巢狀條件式\n",
        "\n",
        "In [6]: ## 巢狀條件式\n",
        "   ...: num_a = int(input(\"輸入第一個數字？ \"))\n",
        "   ...: num_b = int(input(\"輸入第二個數字？ \"))\n",
        "   ...: \n",
        "   ...: if num_a < 0:\n",
        "   ...: \tprint(\"第一個是負數\")\n",
        "   ...: \tif num_b < 0:\n",
        "   ...: \t\tprint(\"第二個也是負數\")\n",
        "   ...: print(\"比較完成\")\n",
        "\n",
        "輸入第一個數字？ 5\n",
        "\n",
        "輸入第二個數字？ 8\n",
        "比較完成\n",
        "\n",
        "In [7]: ## 非巢狀結構\n",
        "   ...: num_a = int(input(\"輸入第一個數字？ \"))\n",
        "   ...: num_b = int(input(\"輸入第二個數字？ \"))\n",
        "   ...: \n",
        "   ...: if num_a < 0:\n",
        "   ...: \tprint(\"第一個是負數\")\n",
        "   ...: if num_b < 0:\n",
        "   ...: \tprint(\"第二個是負數\")\n",
        "   ...: print(\"比較完成\")\n",
        "\n",
        "輸入第一個數字？ 5\n",
        "\n",
        "輸入第二個數字？ 8\n",
        "比較完成\n",
        "\n",
        "## 加分:請舉例說明這兩個程式的執行結果何時會不同?"
      ],
      "execution_count": null,
      "outputs": []
    },
    {
      "cell_type": "code",
      "metadata": {
        "id": "goYBM1o1pOzX",
        "colab": {
          "base_uri": "https://localhost:8080/"
        },
        "outputId": "5ad6356e-ab27-4cf0-a9b4-0f79d1ee42ce"
      },
      "source": [
        "num_a = int(input(\"輸入第一個數字？ \"))\n",
        "num_b = int(input(\"輸入第二個數字？ \"))\n",
        "if num_a < 0:\n",
        " print(\"第一個是負數\")\n",
        "if num_b < 0:\n",
        "\tprint(\"第二個也是負數\")\n",
        "print(\"比較完成\")"
      ],
      "execution_count": 7,
      "outputs": [
        {
          "output_type": "stream",
          "text": [
            "輸入第一個數字？ 306\n",
            "輸入第二個數字？ -6\n",
            "第二個也是負數\n",
            "比較完成\n"
          ],
          "name": "stdout"
        }
      ]
    },
    {
      "cell_type": "code",
      "metadata": {
        "colab": {
          "base_uri": "https://localhost:8080/"
        },
        "id": "b_nkqzNUnZp8",
        "outputId": "d140fff4-1571-4214-eccf-805d61aad244"
      },
      "source": [
        "num_a = int(input(\"輸入第一個數字？ \"))\n",
        "num_b = int(input(\"輸入第二個數字？ \"))\n",
        "if num_a < 0:\n",
        " \tprint(\"第一個是負數\")\n",
        "if num_b < 0:\n",
        " \tprint(\"第二個是負數\")\n",
        "print(\"比較完成\")"
      ],
      "execution_count": 10,
      "outputs": [
        {
          "output_type": "stream",
          "text": [
            "輸入第一個數字？ 999\n",
            "輸入第二個數字？ -999\n",
            "第二個是負數\n",
            "比較完成\n"
          ],
          "name": "stdout"
        }
      ]
    },
    {
      "cell_type": "code",
      "metadata": {
        "id": "Se4ha289pOzX"
      },
      "source": [
        "**範例：今晚要煮義大利麵嗎?**"
      ],
      "execution_count": null,
      "outputs": []
    },
    {
      "cell_type": "code",
      "metadata": {
        "id": "cnUYdtb8pOzX"
      },
      "source": [
        "In [10]: ## 今晚吃義大利麵嗎？\n",
        "    ...: noodle = input(\"有麵嗎？ YES or NO: \")\n",
        "    ...: sauce = input(\"有醬料嗎？ YES or NO: \")\n",
        "    ...: \n",
        "    ...: ## 方法（一）\n",
        "    ...: if noodle==\"YES\" and sauce==\"YES\": # 真值表結果\n",
        "    ...: \tprint(\"今天晚上吃義大利麵\")\n",
        "\n",
        "有麵嗎？ YES or NO: YES\n",
        "\n",
        "有醬料嗎？ YES or NO: YES\n",
        "今天晚上吃義大利麵\n",
        "\n",
        "In [11]: ## 方法（二）\n",
        "    ...: if noodle == \"YES\":\n",
        "    ...: \tif sauce == \"YES\":\n",
        "    ...: \t\tprint(\"今天晚上吃義大利麵\")\n",
        "    ...:         \n",
        "今天晚上吃義大利麵"
      ],
      "execution_count": null,
      "outputs": []
    },
    {
      "cell_type": "code",
      "metadata": {
        "colab": {
          "base_uri": "https://localhost:8080/"
        },
        "id": "j3k1vjAwnq_1",
        "outputId": "e67771b7-4223-4717-a008-1c9266718577"
      },
      "source": [
        "noodle = input(\"有麵嗎？ YES or NO: \")\n",
        "sauce = input(\"有醬料嗎？ YES or NO: \")\n",
        "if noodle==\"YES\" and sauce==\"YES\": \n",
        " \tprint(\"今天晚上吃義大利麵\")"
      ],
      "execution_count": 12,
      "outputs": [
        {
          "output_type": "stream",
          "text": [
            "有麵嗎？ YES or NO: yes\n",
            "有醬料嗎？ YES or NO: yes\n"
          ],
          "name": "stdout"
        }
      ]
    },
    {
      "cell_type": "code",
      "metadata": {
        "colab": {
          "base_uri": "https://localhost:8080/"
        },
        "id": "I_bgiVjFn7IO",
        "outputId": "e0a2e962-1b75-4e67-f4f4-11390b2fcc29"
      },
      "source": [
        "noodle = input(\"有麵嗎？ YES or NO: \")\n",
        "sauce = input(\"有醬料嗎？ YES or NO: \")\n",
        "if noodle == \"YES\":\n",
        " if sauce == \"YES\":\n",
        "\t\tprint(\"今天晚上吃義大利麵\")"
      ],
      "execution_count": 15,
      "outputs": [
        {
          "output_type": "stream",
          "text": [
            "有麵嗎？ YES or NO: yes\n",
            "有醬料嗎？ YES or NO: yes\n"
          ],
          "name": "stdout"
        }
      ]
    },
    {
      "cell_type": "markdown",
      "metadata": {
        "id": "8V9Sy8c1pOzY"
      },
      "source": [
        "## 2.  雙向選擇\n"
      ]
    },
    {
      "cell_type": "code",
      "metadata": {
        "id": "hsmpda-dpOzY"
      },
      "source": [
        "**範例: 判斷及格與不及格**\n",
        "\n",
        " In [1]: score = int(input('請輸入一個成績？'))\n",
        "    ...: if score >= 60:\n",
        "    ...:     print('有及格ㄡ～')\n",
        "    ...: else:\n",
        "    ...:     print('不及格ㄟ！')\n",
        "    ...:     \n",
        "\n",
        "請輸入一個成績？88\n",
        "有及格ㄡ～"
      ],
      "execution_count": null,
      "outputs": []
    },
    {
      "cell_type": "code",
      "metadata": {
        "id": "YcAHrcz5pOzY",
        "colab": {
          "base_uri": "https://localhost:8080/"
        },
        "outputId": "e039ef9d-df4f-4ea0-ca0d-0de4cfdc57cc"
      },
      "source": [
        "score = int(input('請輸入一個成績？'))\n",
        "if score >= 60:\n",
        "     print('有及格ㄡ～')\n",
        "else:\n",
        "     print('不及格ㄟ！')"
      ],
      "execution_count": 18,
      "outputs": [
        {
          "output_type": "stream",
          "text": [
            "請輸入一個成績？59\n",
            "不及格ㄟ！\n"
          ],
          "name": "stdout"
        }
      ]
    },
    {
      "cell_type": "markdown",
      "metadata": {
        "id": "FcFn_uwLpOzY"
      },
      "source": [
        "#### 隨堂練習: 滿2000 打九折\n",
        "\n",
        "**請寫一個程式幫助店家計算顧客所需付出的金額。**\n",
        "\n",
        "採買物品時，有時會遇到店家為了刺激消費，會使用滿額折扣。例如，滿2000 打九折，未滿2000 則不打折。"
      ]
    },
    {
      "cell_type": "code",
      "metadata": {
        "id": "4mjZLDIVpOzZ"
      },
      "source": [
        ""
      ],
      "execution_count": null,
      "outputs": []
    },
    {
      "cell_type": "code",
      "metadata": {
        "id": "d9IrzX03pOzZ"
      },
      "source": [
        "#### 範例 三角形判斷\n",
        "\n",
        "設計一個程式允許輸入三角形三邊長，分別為a、b 與c，根據三角形中任兩邊相加要大於第三邊，判斷是否為三角形。\n",
        "\n",
        "In [1]: a = int(input('請輸入三角形邊長a長度為？'))\n",
        "    ...: b = int(input('請輸入三角形邊長b長度為？'))\n",
        "    ...: c = int(input('請輸入三角形邊長c長度為？'))\n",
        "    ...: \n",
        "    ...: if (a < b + c)and(b < a + c)and( c < a + b):   #任兩邊相加是否大於第三邊\n",
        "    ...:     print('可構成三角形')\n",
        "    ...: else:\n",
        "    ...:     print('無法構成三角形')\n",
        "    ...:     \n",
        "\n",
        "請輸入三角形邊長a長度為？3\n",
        "\n",
        "請輸入三角形邊長b長度為？4\n",
        "\n",
        "請輸入三角形邊長c長度為？5\n",
        "可構成三角形"
      ],
      "execution_count": null,
      "outputs": []
    },
    {
      "cell_type": "code",
      "metadata": {
        "id": "diUkCDLfpOzZ",
        "colab": {
          "base_uri": "https://localhost:8080/"
        },
        "outputId": "7742a018-45af-4a90-ce15-01f35cfd69c5"
      },
      "source": [
        "In [1]: a = int(input('請輸入三角形邊長a長度為？'))\n",
        "b = int(input('請輸入三角形邊長b長度為？'))\n",
        "c = int(input('請輸入三角形邊長c長度為？'))\n",
        "if (a < b + c)and(b < a + c)and( c < a + b): \n",
        "     print('可構成三角形')\n",
        "else:\n",
        "     print('無法構成三角形')"
      ],
      "execution_count": 23,
      "outputs": [
        {
          "output_type": "stream",
          "text": [
            "請輸入三角形邊長a長度為？6\n",
            "請輸入三角形邊長b長度為？9\n",
            "請輸入三角形邊長c長度為？15\n",
            "無法構成三角形\n"
          ],
          "name": "stdout"
        }
      ]
    },
    {
      "cell_type": "markdown",
      "metadata": {
        "id": "bHmvNeTSpOzZ"
      },
      "source": [
        "#### 隨堂練習: 判斷奇偶數\n",
        "\n",
        "請寫一個程式判斷輸入的值是奇數還是偶數。"
      ]
    },
    {
      "cell_type": "code",
      "metadata": {
        "colab": {
          "base_uri": "https://localhost:8080/"
        },
        "id": "t80-EdkBpOza",
        "outputId": "53513abf-be65-4537-9cd5-c2e2d35a21fe"
      },
      "source": [
        "number = input(\"請輸入一個數字\")\n",
        "number = int(number)\n",
        "ans = (number%2==1)\n",
        "if ans ==1:\n",
        "    print(\"奇數\")\n",
        "else:\n",
        "    print(\"偶數\")"
      ],
      "execution_count": null,
      "outputs": [
        {
          "output_type": "stream",
          "text": [
            "請輸入一個數字65\n",
            "奇數\n"
          ],
          "name": "stdout"
        }
      ]
    },
    {
      "cell_type": "code",
      "metadata": {
        "colab": {
          "base_uri": "https://localhost:8080/"
        },
        "id": "wOOT6LKZovcm",
        "outputId": "5cc128e2-453e-4fed-bb3c-2ecf816af189"
      },
      "source": [
        "number = input(\"請輸入一個數字\")\n",
        "number = int(number)\n",
        "ans = (number%2==1)\n",
        "if ans ==1:\n",
        "    print(\"奇數\")\n",
        "else:\n",
        "    print(\"偶數\")"
      ],
      "execution_count": 24,
      "outputs": [
        {
          "output_type": "stream",
          "text": [
            "請輸入一個數字88\n",
            "偶數\n"
          ],
          "name": "stdout"
        }
      ]
    },
    {
      "cell_type": "markdown",
      "metadata": {
        "id": "x_DDlSQOpOza"
      },
      "source": [
        "## 3. 多向選擇\n"
      ]
    },
    {
      "cell_type": "code",
      "metadata": {
        "id": "CY8FlAyfpOza"
      },
      "source": [
        "#### 範例：兩個數比大小\n",
        "\n",
        "In [1]: ## Input\n",
        "    ...: num1 = int(input(\"Please input a number: \"))\n",
        "    ...: num2 = int(input(\"Please input another number: \"))\n",
        "    ...: \n",
        "    ...: ## Process＋ Output\n",
        "    ...: if num1 == num2:\n",
        "    ...:     print(num1, \"等於\", num2)\n",
        "    ...: elif num1 < num2:\n",
        "    ...:     print(num1, \"小於\", num2)\n",
        "    ...: else:\n",
        "    ...:     print(num1, \"大於\", num2)\n",
        "\n",
        "Please input a number: 5\n",
        "\n",
        "Please input another number: 8\n",
        "5 小於 8"
      ],
      "execution_count": null,
      "outputs": []
    },
    {
      "cell_type": "code",
      "metadata": {
        "id": "ukZbAgXvpOza",
        "colab": {
          "base_uri": "https://localhost:8080/"
        },
        "outputId": "81ea73e9-e1cd-48bf-f4ef-934fc9d18ad0"
      },
      "source": [
        "In [1]: ## Input\n",
        "num1 = int(input(\"Please input a number: \"))\n",
        "num2 = int(input(\"Please input another number: \"))\n",
        "if num1 == num2:\n",
        "     print(num1, \"等於\", num2)\n",
        "elif num1 < num2:\n",
        "     print(num1, \"小於\", num2)\n",
        "else:\n",
        "     print(num1, \"大於\", num2)"
      ],
      "execution_count": 25,
      "outputs": [
        {
          "output_type": "stream",
          "text": [
            "Please input a number: 366\n",
            "Please input another number: 88\n",
            "366 大於 88\n"
          ],
          "name": "stdout"
        }
      ]
    },
    {
      "cell_type": "code",
      "metadata": {
        "id": "HHp_6ozDpOza"
      },
      "source": [
        "#### 範例 : 郵資計算\n",
        "\n",
        "某快遞公司以重量為計算郵資的依據，重量與郵資計算如下表，請寫一個程式協助快遞人員計算郵資，快遞人員只要輸入重量，程式自動計算郵資。\n",
        "\n",
        "In [1]: ## 郵資計算\n",
        "    ...: w = float(input('請輸入物品重量？')) # Input\n",
        "    ...: \n",
        "    ...: if w <= 5:                          \n",
        "    ...:     print('所需郵資為50元')\n",
        "    ...: elif w <= 10:\n",
        "    ...:     print('所需郵資為70元')\n",
        "    ...: elif w <= 15:\n",
        "    ...:     print('所需郵資為90元')\n",
        "    ...: elif w <= 20:\n",
        "    ...:     print('所需郵資為110元')\n",
        "    ...: else:\n",
        "    ...:     print('超過20公斤無法寄送')\n",
        "\n",
        "請輸入物品重量？20\n",
        "所需郵資為110元"
      ],
      "execution_count": null,
      "outputs": []
    },
    {
      "cell_type": "code",
      "metadata": {
        "id": "24mJRLCipOzb",
        "colab": {
          "base_uri": "https://localhost:8080/"
        },
        "outputId": "f1b38565-5ddd-4d45-b955-dfe92249f5a4"
      },
      "source": [
        "In [1]: ## 郵資計算\n",
        "w = float(input('請輸入物品重量？')) \n",
        "if w <= 5:                          \n",
        "     print('所需郵資為50元')\n",
        "elif w <= 10:\n",
        "     print('所需郵資為70元')\n",
        "elif w <= 15:\n",
        "     print('所需郵資為90元')\n",
        "elif w <= 20:\n",
        "     print('所需郵資為110元')\n",
        "else:\n",
        "     print('超過20公斤無法寄送')"
      ],
      "execution_count": 27,
      "outputs": [
        {
          "output_type": "stream",
          "text": [
            "請輸入物品重量？88\n",
            "超過20公斤無法寄送\n"
          ],
          "name": "stdout"
        }
      ]
    },
    {
      "cell_type": "markdown",
      "metadata": {
        "id": "HXaSFzDIpOzb"
      },
      "source": [
        "#### 隨堂練習： BMI 計算\n",
        "\n",
        "**請寫一個程式讓使用者輸入身高與體重，顯示BMI 值與肥胖程度。**"
      ]
    },
    {
      "cell_type": "code",
      "metadata": {
        "id": "nan97Y15pOzb",
        "colab": {
          "base_uri": "https://localhost:8080/"
        },
        "outputId": "395d6d2d-4487-47a0-9e36-36cfc6461ec5"
      },
      "source": [
        "weight =  int(input(\"請輸入你的體重(公斤):\"))\n",
        "height = float(input(\"請輸入你的身高(公尺):\"))\n",
        "BMI = weight /( height * height)\n",
        "if BMI < 18:\n",
        "    print(\"體重過輕\")\n",
        "elif BMI < 24:\n",
        "    print(\"體重正常\")\n",
        "elif BMI < 27:\n",
        "    print(\"體重過重\")\n",
        "else:\n",
        "    print(\"體重肥胖\")"
      ],
      "execution_count": 28,
      "outputs": [
        {
          "output_type": "stream",
          "text": [
            "請輸入你的體重(公斤):45\n",
            "請輸入你的身高(公尺):1.52\n",
            "體重正常\n"
          ],
          "name": "stdout"
        }
      ]
    }
  ]
}