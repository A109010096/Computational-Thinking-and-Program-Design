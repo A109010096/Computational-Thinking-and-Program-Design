{
  "nbformat": 4,
  "nbformat_minor": 0,
  "metadata": {
    "colab": {
      "name": "劉宇珊-week3-練習作業.ipynb",
      "provenance": [],
      "authorship_tag": "ABX9TyOQcJJN8Ko6Qtdn4DN9UDTe",
      "include_colab_link": true
    },
    "kernelspec": {
      "name": "python3",
      "display_name": "Python 3"
    }
  },
  "cells": [
    {
      "cell_type": "markdown",
      "metadata": {
        "id": "view-in-github",
        "colab_type": "text"
      },
      "source": [
        "<a href=\"https://colab.research.google.com/github/A109010096/Computational-Thinking-and-Program-Design/blob/main/%E5%8A%89%E5%AE%87%E7%8F%8A_week3_%E7%B7%B4%E7%BF%92%E4%BD%9C%E6%A5%AD.ipynb\" target=\"_parent\"><img src=\"https://colab.research.google.com/assets/colab-badge.svg\" alt=\"Open In Colab\"/></a>"
      ]
    },
    {
      "cell_type": "code",
      "metadata": {
        "id": "5kbGBg0cNBKx"
      },
      "source": [
        ""
      ],
      "execution_count": null,
      "outputs": []
    },
    {
      "cell_type": "markdown",
      "metadata": {
        "id": "UKke30RwNQz5"
      },
      "source": [
        "## ***隨堂練習***"
      ]
    },
    {
      "cell_type": "markdown",
      "metadata": {
        "id": "LaQMegtweH3W"
      },
      "source": [
        "#認識電腦\r\n",
        "1.電腦只懂0跟1 程式語言就像翻譯官 把所有語言轉換成電腦懂的語言\r\n",
        "2."
      ]
    },
    {
      "cell_type": "code",
      "metadata": {
        "id": "9jPi6nFFNZC-",
        "colab": {
          "base_uri": "https://localhost:8080/"
        },
        "outputId": "f27d4723-2430-4dd7-d892-f57c136bd73d"
      },
      "source": [
        "print(1+1)"
      ],
      "execution_count": null,
      "outputs": [
        {
          "output_type": "stream",
          "text": [
            "2\n"
          ],
          "name": "stdout"
        }
      ]
    },
    {
      "cell_type": "markdown",
      "metadata": {
        "id": "99VXx1UJOa6D"
      },
      "source": [
        "# 課後練習"
      ]
    },
    {
      "cell_type": "markdown",
      "metadata": {
        "id": "971iS5szOqqQ"
      },
      "source": [
        "(1)隨堂練習為各單元重點摘要，(2)課後練習則為從一則新聞報導，提出你對新聞系（OO系）學生為什麼要學「運算思維與程式設計」的見解。（告訴我新聞連結，以及你的觀點即可。）\r\n"
      ]
    },
    {
      "cell_type": "code",
      "metadata": {
        "id": "v-Xkr6pPOfSF"
      },
      "source": [
        "https://udn.com/news/story/120944/5326033?from=udn-ch1_breaknews-1-0-news\r\n",
        "要是了解程式設計，就能更快速掌握世界上的疫情分布，可運用程式觀察每日各個地區增加的確診、死亡人數。\r\n",
        "也能更即時發布新聞，若有異常之處更能快速得到「異常性」的結論，再深入了界當地是否有變種病毒等特殊情況，民眾也能更快了解世界的狀況。"
      ],
      "execution_count": null,
      "outputs": []
    }
  ]
}