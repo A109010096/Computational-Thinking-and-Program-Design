{
  "nbformat": 4,
  "nbformat_minor": 0,
  "metadata": {
    "colab": {
      "name": "劉宇珊 - Week14 -作業題目.ipynb",
      "provenance": [],
      "authorship_tag": "ABX9TyPA1zL9gokfZ5UtulMcat+p",
      "include_colab_link": true
    },
    "kernelspec": {
      "name": "python3",
      "display_name": "Python 3"
    },
    "language_info": {
      "name": "python"
    }
  },
  "cells": [
    {
      "cell_type": "markdown",
      "metadata": {
        "id": "view-in-github",
        "colab_type": "text"
      },
      "source": [
        "<a href=\"https://colab.research.google.com/github/A109010096/Computational-Thinking-and-Program-Design/blob/main/%E5%8A%89%E5%AE%87%E7%8F%8A_Week14_%E4%BD%9C%E6%A5%AD%E9%A1%8C%E7%9B%AE.ipynb\" target=\"_parent\"><img src=\"https://colab.research.google.com/assets/colab-badge.svg\" alt=\"Open In Colab\"/></a>"
      ]
    },
    {
      "cell_type": "markdown",
      "metadata": {
        "id": "rc1kmK4DUclc"
      },
      "source": [
        "##[棒打老虎雞吃蟲]跟[剪刀石頭布]是類似的遊戲，練習一下你是否也可以寫出類似的小遊戲呢？"
      ]
    },
    {
      "cell_type": "code",
      "metadata": {
        "colab": {
          "base_uri": "https://localhost:8080/"
        },
        "id": "mdORWmNRUgLJ",
        "outputId": "db497d24-68ac-4c86-93ab-e3fcd4f596dd"
      },
      "source": [
        "my_choice = int(input(\"請出拳 ［0] 蟲 [1] 雞 [2] 老虎 [3] 棒子\"))\n",
        "print(\"你出的拳:\", my_choice)\n",
        "import random\n",
        "com_choice = random. randint (0, 3)\n",
        "print(\"電腦出拳為\", com_choice)\n",
        "# 後面勝前面 其他平手\n",
        "if my_choice == com_choice + 1:\n",
        "    print(\"我贏拉\")\n",
        "elif com_choice == my_choice + 1:\n",
        "    print(\"電腦贏拉\")\n",
        "else:\n",
        "    print(\"平手\")"
      ],
      "execution_count": 7,
      "outputs": [
        {
          "output_type": "stream",
          "text": [
            "請出拳 ［0] 蟲 [1] 雞 [2] 老虎 [3] 棒子3\n",
            "你出的拳: 3\n",
            "電腦出拳為 3\n",
            "平手\n"
          ],
          "name": "stdout"
        }
      ]
    }
  ]
}